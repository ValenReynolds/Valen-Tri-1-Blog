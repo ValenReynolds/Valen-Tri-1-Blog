{
 "cells": [
  {
   "cell_type": "code",
   "execution_count": null,
   "metadata": {},
   "outputs": [],
   "source": [
    "---\n",
    "toc: true\n",
    "layout: post\n",
    "description: Week 1 Hacks\n",
    "categories: [markdown]\n",
    "title: Week 1 Hacks\n",
    "---"
   ]
  },
  {
   "cell_type": "markdown",
   "metadata": {},
   "source": [
    "# Week 1\n",
    "Seeing that you understand how to use Code.org and that you used it to complement your learning on primitives.  Up to Lesson 5 in the OOP assignment.\n",
    "Productive Blogging\n",
    "Create a Jupyter Notebook(s) using IJava kernel and that you could use it to capture key learning on Primitives.   \n",
    "Create a Jupyter Notebook using Bash and that you could use it to show that you have all the key tools installed.   This should also be a Blog for your own personal memory.\n",
    "Each student captures information  in Fastpages thinking ... how they are going to capture information that will grow to 10 college board units ... how they will recognize something as PBL vs College Board."
   ]
  }
 ],
 "metadata": {
  "language_info": {
   "name": "python"
  },
  "orig_nbformat": 4
 },
 "nbformat": 4,
 "nbformat_minor": 2
}
