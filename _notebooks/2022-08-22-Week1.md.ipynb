{
 "cells": [
  {
   "cell_type": "markdown",
   "metadata": {},
   "source": [
    "---\n",
    "toc: true\n",
    "layout: post\n",
    "description: Week 1 Hacks\n",
    "categories: [markdown]\n",
    "title: Week 1 Hacks\n",
    "---"
   ]
  },
  {
   "cell_type": "markdown",
   "metadata": {},
   "source": [
    "# Week 1\n",
    "Seeing that you understand how to use Code.org and that you used it to complement your learning on primitives.  Up to Lesson 5 in the OOP assignment.\n",
    "Productive Blogging\n",
    "\n",
    " <img width=\"364\" alt=\"Screen Shot 2022-08-29 at 10 12 04 AM\" src=\"https://user-images.githubusercontent.com/89166851/187256493-4d44613d-4ed5-41ea-9b4c-a1f121d86dff.png\">\n",
    "\n",
    "Create a Jupyter Notebook(s) using IJava kernel and that you could use it to capture key learning on Primitives.  \n",
    "\n",
    "<img width=\"633\" alt=\"Screen Shot 2022-08-29 at 10 30 10 AM\" src=\"https://user-images.githubusercontent.com/89166851/187262357-44b39caa-b077-4a7e-a7a2-9c664c20935a.png\">\n",
    "\n",
    "Create a Jupyter Notebook using Bash and that you could use it to show that you have all the key tools installed.   This should also be a Blog for your own personal memory.\n",
    "\n",
    "\n",
    "\n",
    "Each student captures information  in Fastpages thinking ... how they are going to capture information that will grow to 10 college board units ... how they will recognize something as PBL vs College Board."
   ]
  }
 ],
 "metadata": {
  "interpreter": {
   "hash": "aee8b7b246df8f9039afb4144a1f6fd8d2ca17a180786b69acc140d282b71a49"
  },
  "kernelspec": {
   "display_name": "Java",
   "language": "java",
   "name": "java"
  },
  "language_info": {
   "codemirror_mode": "java",
   "file_extension": ".jshell",
   "mimetype": "text/x-java-source",
   "name": "Java",
   "pygments_lexer": "java",
   "version": "17.0.1+12-39"
  },
  "orig_nbformat": 4
 },
 "nbformat": 4,
 "nbformat_minor": 2
}
