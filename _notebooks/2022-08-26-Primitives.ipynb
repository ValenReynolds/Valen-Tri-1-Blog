{
 "cells": [
  {
   "cell_type": "markdown",
   "metadata": {},
   "source": [
    "# Primitives\n",
    "> Primitives\n",
    "\n",
    "- toc: true \n",
    "- badges: true\n",
    "- comments: true\n",
    "- categories: [jupyter]\n",
    "- title: Primitives"
   ]
  },
  {
   "cell_type": "markdown",
   "metadata": {},
   "source": [
    "# Primitives \n",
    "\n",
    "I learned that primitives have different data types, Boolean, Numeric, Character, Integral, Integer, boolean, char, byte, short, int, long, float and double. The non primitives are string and array.\n",
    "\n",
    "<img width=\"891\" alt=\"Screen Shot 2022-08-29 at 10 21 06 AM\" src=\"https://user-images.githubusercontent.com/89166851/187259474-f301dc34-3294-46e6-bece-8aecea09b941.png\">\n",
    "\n",
    "There is input and output primitives. Input takes in the information and output gives the results.\n"
   ]
  },
  {
   "cell_type": "code",
   "execution_count": 2,
   "metadata": {},
   "outputs": [
    {
     "name": "stdout",
     "output_type": "stream",
     "text": [
      "Enter an integer: Not an integer (form like 159), java.util.InputMismatchException\n",
      "Enter a double: 0.1\n",
      "Enter a boolean: true\n",
      "Enter a String: mtkevk\n"
     ]
    }
   ],
   "source": [
    "import java.util.Scanner;\n",
    "\n",
    "// class must alway have 1st letter as uppercase, CamelCase is Java Class convention\n",
    "public class ScanPrimitives {\n",
    "    public static void main(String[] args) {    \n",
    "        Scanner input;\n",
    "\n",
    "        // primitive int\n",
    "        input = new Scanner(System.in);\n",
    "        System.out.print(\"Enter an integer: \");\n",
    "        try {\n",
    "            int sampleInputInt = input.nextInt();(\"Input next integer\")\n",
    "            System.out.println(sampleInputInt);\n",
    "        } catch (Exception e) {  // if not an integer\n",
    "            System.out.println(\"Not an integer (form like 159), \" + e);\n",
    "        }\n",
    "        input.close();\n",
    "\n",
    "        // primitive double\n",
    "        input = new Scanner(System.in);\n",
    "        System.out.print(\"Enter a double: \"); \n",
    "        try {\n",
    "            double sampleInputDouble = input.nextDouble();\n",
    "            System.out.println(sampleInputDouble);\n",
    "        } catch (Exception e) {  // if not a number\n",
    "            System.out.println(\"Not an double (form like 9.99), \" + e);\n",
    "        }\n",
    "        input.close();\n",
    "\n",
    "        // primitive boolean\n",
    "        input =  new Scanner(System.in);\n",
    "        System.out.print(\"Enter a boolean: \");\n",
    "        try {\n",
    "            boolean sampleInputBoolean = input.nextBoolean();\n",
    "            System.out.println(sampleInputBoolean); (\"Input true or false\")\n",
    "        } catch (Exception e) {  // if not true or false\n",
    "            System.out.println(\"Not an boolean (true or false), \" + e);\n",
    "        }\n",
    "        input.close();\n",
    "\n",
    "        // wrapper class String\n",
    "        input =  new Scanner(System.in);\n",
    "        System.out.print(\"Enter a String: \");\n",
    "        try {\n",
    "            String sampleInputString = input.nextLine();\n",
    "            System.out.println(sampleInputString);\n",
    "        } catch (Exception e) { // this may never happen\n",
    "            System.out.println(\"Not an String, \" + e);\n",
    "        }\n",
    "        input.close();\n",
    "    }\n",
    "}\n",
    "ScanPrimitives.main(null);"
   ]
  },
  {
   "cell_type": "markdown",
   "metadata": {},
   "source": []
  }
 ],
 "metadata": {
  "interpreter": {
   "hash": "aee8b7b246df8f9039afb4144a1f6fd8d2ca17a180786b69acc140d282b71a49"
  },
  "kernelspec": {
   "display_name": "Java",
   "language": "python",
   "name": "python3"
  },
  "language_info": {
   "codemirror_mode": "java",
   "file_extension": ".jshell",
   "mimetype": "text/x-java-source",
   "name": "python",
   "pygments_lexer": "java",
   "version": "3.9.6"
  },
  "orig_nbformat": 4
 },
 "nbformat": 4,
 "nbformat_minor": 2
}
