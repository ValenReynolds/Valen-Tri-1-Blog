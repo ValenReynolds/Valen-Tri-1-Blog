{
 "cells": [
  {
   "cell_type": "markdown",
   "metadata": {},
   "source": [
    "---\n",
    "toc: true\n",
    "layout: post\n",
    "description: Installation Checks\n",
    "categories: [markdown]\n",
    "title: Installation Checks\n",
    "---"
   ]
  },
  {
   "cell_type": "code",
   "execution_count": 1,
   "metadata": {
    "vscode": {
     "languageId": "shellscript"
    }
   },
   "outputs": [
    {
     "name": "stdout",
     "output_type": "stream",
     "text": [
      "Using conditional statement to create a project directory and project\n",
      "Directory /vscode does not exists... makinng directory /vscode\n",
      "mkdir: /vscode: Read-only file system\n",
      "Directory /vscode exists.\n",
      "Directory /vscode/APCSP does not exists... cloning https://github.com/nighthawkcoders/APCSP.git\n",
      "bash: cd: /vscode: No such file or directory\n",
      "Cloning into 'APCSP'...\n",
      "remote: Enumerating objects: 9159, done.        \n",
      "remote: Counting objects: 100% (734/734), done.        \n",
      "remote: Compressing objects: 100% (305/305), done.        \n",
      "Receiving objects: 100% (9159/9159), 16.48 MiB | 1.32 MiB/s, done.\n",
      "remote: Total 9159 (delta 445), reused 691 (delta 408), pack-reused 8425        \n",
      "Resolving deltas: 100% (4940/4940), done.\n",
      "Directory /vscode/APCSP exists.\n"
     ]
    }
   ],
   "source": [
    "echo \"Using conditional statement to create a project directory and project\"\n",
    "\n",
    "# Variable section\n",
    "export project_dir=$HOME/vscode  # change vscode to different name to test git clone\n",
    "export project=$project_dir/APCSP  # change APCSP to name of project from git clone\n",
    "export project_repo=\"https://github.com/nighthawkcoders/APCSP.git\"  # change to project of choice\n",
    "\n",
    "cd ~    # start in home directory\n",
    "\n",
    "# Conditional block to make a project directory\n",
    "if [ ! -d $project_dir ]\n",
    "then \n",
    "    echo \"Directory $project_dir does not exists... makinng directory $project_dir\"\n",
    "    mkdir -p $project_dir\n",
    "fi\n",
    "echo \"Directory $project_dir exists.\" \n",
    "\n",
    "# Conditional block to git clone a project from project_repo\n",
    "if [ ! -d $project ]\n",
    "then\n",
    "    echo \"Directory $project does not exists... cloning $project_repo\"\n",
    "    cd $project_dir\n",
    "    git clone $project_repo\n",
    "    cd ~\n",
    "fi\n",
    "echo \"Directory $project exists.\""
   ]
  }
 ],
 "metadata": {
  "kernelspec": {
   "display_name": "Bash",
   "language": "bash",
   "name": "bash"
  },
  "language_info": {
   "codemirror_mode": "shell",
   "file_extension": ".sh",
   "mimetype": "text/x-sh",
   "name": "bash"
  },
  "orig_nbformat": 4
 },
 "nbformat": 4,
 "nbformat_minor": 2
}
